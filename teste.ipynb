{
 "cells": [
  {
   "cell_type": "code",
   "execution_count": 5,
   "metadata": {},
   "outputs": [],
   "source": [
    "import os \n",
    "import pandas as pd \n",
    "from glob import glob as gb"
   ]
  },
  {
   "cell_type": "code",
   "execution_count": 6,
   "metadata": {},
   "outputs": [],
   "source": [
    "path = 'MONTHLY/*.lev20'\n",
    "path_files = gb(path)\n",
    "os.mkdir('csv_files')\n",
    "for file in path_files:\n",
    "    try:\n",
    "        df = pd.read_csv(file,skiprows=6,encoding='latin1')\n",
    "        df.to_csv('csv_files/'+file[:-6]+'.csv')\n",
    "    except:\n",
    "        print(f' the dataframe {file} have {len(df)} lines')"
   ]
  }
 ],
 "metadata": {
  "kernelspec": {
   "display_name": "fenv",
   "language": "python",
   "name": "python3"
  },
  "language_info": {
   "codemirror_mode": {
    "name": "ipython",
    "version": 3
   },
   "file_extension": ".py",
   "mimetype": "text/x-python",
   "name": "python",
   "nbconvert_exporter": "python",
   "pygments_lexer": "ipython3",
   "version": "3.10.13"
  }
 },
 "nbformat": 4,
 "nbformat_minor": 2
}
